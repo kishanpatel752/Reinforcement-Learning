{
 "cells": [
  {
   "attachments": {},
   "cell_type": "markdown",
   "id": "60337101",
   "metadata": {},
   "source": [
    "### Reinforcement Learning:\n",
    "\n",
    ">* **Name:**  Kishan Kanaiyalal Patel \n",
    ">* **Project:** Solving GridWorld Problem  \n"
   ]
  },
  {
   "cell_type": "code",
   "execution_count": 1,
   "id": "96709c57",
   "metadata": {},
   "outputs": [],
   "source": [
    "#Importing required libraries\n",
    "\n",
    "import enum\n",
    "import numpy as np\n",
    "import scipy.linalg\n",
    "import matplotlib.pyplot as plt\n",
    "from typing import Tuple"
   ]
  },
  {
   "cell_type": "code",
   "execution_count": 2,
   "id": "395e9168",
   "metadata": {},
   "outputs": [],
   "source": [
    "#Creating a class for actions (movement) which can be left, right, up, and down.\n",
    "\n",
    "class Actions(enum.IntEnum):\n",
    "    LEFT = 1\n",
    "    RIGHT = 2\n",
    "    UP = 3\n",
    "    DOWN = 4"
   ]
  },
  {
   "cell_type": "code",
   "execution_count": 3,
   "id": "9dd8a9ec",
   "metadata": {},
   "outputs": [],
   "source": [
    "# Function to visualize state values(heatmap)\n",
    "\n",
    "def visualize_state_values(state_values: np.ndarray):\n",
    "    plt.imshow(state_values, cmap=\"Reds\")\n",
    "    \n",
    "    # Add the values of state as text on top of each cell\n",
    "    for (j, i), label in np.ndenumerate(state_values):\n",
    "        plt.text(i, j, f'{label:0.2f}', ha='center', va='center', color='black')\n",
    "    plt.show()"
   ]
  },
  {
   "cell_type": "code",
   "execution_count": 4,
   "id": "7b0462f3",
   "metadata": {},
   "outputs": [],
   "source": [
    "# Random policy class to define action probabilities\n",
    "\n",
    "class RandomPolicy:\n",
    "    def action_prob(self, state: int):\n",
    "        return 0.25 # Return the action probability, which is 0.25 for all actions"
   ]
  },
  {
   "cell_type": "code",
   "execution_count": 5,
   "id": "c4aa4c30",
   "metadata": {},
   "outputs": [],
   "source": [
    "# Class for the Gridworld environment\n",
    "\n",
    "class Gridworld:\n",
    "    # Initialize the environment with its width, height, good and bad cells\n",
    "    def __init__(self, width: int, height: int, good_cells: list, bad_cells: list):\n",
    "        self.width = width # width of gridworld\n",
    "        self.height = height # height of gridworld\n",
    "        self.start_state = (0,0) # start state\n",
    "        self.end_state = (width-1, height-1) # end state\n",
    "        self.good_cells = good_cells # list of good cells\n",
    "        self.bad_cells = bad_cells # list of bad cells\n",
    "        \n",
    "    # Perform a step in the gridworld environment given a state and action\n",
    "    def step(self, state: Tuple[int, int], action: Actions):\n",
    "        i, j = state\n",
    "        reward = 0\n",
    "        # Move the state based on the action\n",
    "        if action == Actions.LEFT:\n",
    "            next_state = (max(i-1,0), j)\n",
    "        elif action == Actions.RIGHT:\n",
    "            next_state = (min(i+1, self.width-1), j)\n",
    "        elif action == Actions.UP:\n",
    "            next_state = (i, max(j-1,0))\n",
    "        elif action == Actions.DOWN:\n",
    "            next_state = (i, min(j+1, self.height-1))\n",
    "\n",
    "        # Check if next state is a good cell and give reward accordingly\n",
    "        if next_state in good_cells:\n",
    "            if next_state == (0,1):\n",
    "                reward = reward + 10\n",
    "            else:\n",
    "                reward = reward + 5    \n",
    "\n",
    "        # Check if next state is a bad cell and give penalty accordingly\n",
    "        elif next_state in bad_cells:\n",
    "            reward = reward - 1 \n",
    "        # If next state is neither good nor bad, reward is 0\n",
    "        else:\n",
    "            reward = 0\n",
    "        return next_state, reward\n",
    "\n",
    "    # Function to reset the environment\n",
    "        def reset(self):\n",
    "            return self.start_state"
   ]
  },
  {
   "cell_type": "code",
   "execution_count": 6,
   "id": "7ebe913d",
   "metadata": {},
   "outputs": [],
   "source": [
    "#Function to calculate the state values\n",
    "\n",
    "def calculate_state_values(policy, env, discount_factor, num_iterations):\n",
    "    # Initialize the state values matrix with all elements set to 0\n",
    "    state_values = np.zeros((env.width, env.height))\n",
    "\n",
    "    # Repeat for the specified number of iterations\n",
    "    for i in range(num_iterations):\n",
    "        # Initialize a matrix to store the new state values\n",
    "        new_state_values = np.zeros((env.width, env.height))\n",
    "\n",
    "        # Loop through all states\n",
    "        for j in range(env.width):\n",
    "            for k in range(env.height):\n",
    "                state = (j,k)\n",
    "\n",
    "                # Initialize the value of the state to 0\n",
    "                value = 0\n",
    "\n",
    "                # Loop through all actions\n",
    "                for action in Actions:\n",
    "                    # Take the action and get the reward and next state\n",
    "                    next_state, reward = env.step(state, action)\n",
    "\n",
    "                    # Update the value of the state based on the action taken\n",
    "                    value += policy.action_prob(state) * (reward + (discount_factor * state_values[next_state[0], next_state[1]]))\n",
    "\n",
    "                # Update the new state values matrix\n",
    "                new_state_values[j,k] = value\n",
    "\n",
    "        # Replace the old state values matrix with the updated new state values matrix\n",
    "        state_values = new_state_values\n",
    "\n",
    "    # Return the final state values matrix\n",
    "    return state_values"
   ]
  },
  {
   "cell_type": "code",
   "execution_count": 9,
   "id": "e7e76573",
   "metadata": {},
   "outputs": [
    {
     "name": "stdout",
     "output_type": "stream",
     "text": [
      "State values:\n"
     ]
    },
    {
     "data": {
      "image/png": "[encoded data removed]",
      "text/plain": [
       "<Figure size 640x480 with 1 Axes>"
      ]
     },
     "metadata": {},
     "output_type": "display_data"
    }
   ],
   "source": [
    "if __name__ == \"__main__\":\n",
    "    \n",
    "    # Define the good cells\n",
    "    good_cells = [(0,1), (0,3)]\n",
    "    # Define the bad cells\n",
    "    bad_cells = [(1,1), (4,4)]\n",
    "    \n",
    "    # Create the Gridworld environment with the specified good and bad cells\n",
    "    env = Gridworld(5, 5, good_cells, bad_cells)\n",
    "    \n",
    "    # Initialize a random policy\n",
    "    policy = RandomPolicy()\n",
    "    \n",
    "    # Set the discount factor\n",
    "    discount_factor = 0.9\n",
    "    \n",
    "    # Set the number of iterations\n",
    "    Iterations = 5\n",
    "    \n",
    "    # Calculate the state values for the environment and policy\n",
    "    state_values = calculate_state_values(policy, env, discount_factor, Iterations)\n",
    "    \n",
    "    # Visualising the state values\n",
    "    print(\"State values:\")\n",
    "    visualize_state_values(state_values)\n"
   ]
  }
 ],
 "metadata": {
  "kernelspec": {
   "display_name": "Python 3 (ipykernel)",
   "language": "python",
   "name": "python3"
  },
  "language_info": {
   "codemirror_mode": {
    "name": "ipython",
    "version": 3
   },
   "file_extension": ".py",
   "mimetype": "text/x-python",
   "name": "python",
   "nbconvert_exporter": "python",
   "pygments_lexer": "ipython3",
   "version": "3.9.12"
  }
 },
 "nbformat": 4,
 "nbformat_minor": 5
}
